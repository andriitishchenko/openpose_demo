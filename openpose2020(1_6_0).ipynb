{
  "nbformat": 4,
  "nbformat_minor": 0,
  "metadata": {
    "colab": {
      "name": "openpose2020(1.6.0).ipynb",
      "provenance": [],
      "collapsed_sections": [],
      "authorship_tag": "ABX9TyNQMSJe5TeGomZAB+5AIlRo",
      "include_colab_link": true
    },
    "kernelspec": {
      "name": "python3",
      "display_name": "Python 3"
    },
    "accelerator": "GPU"
  },
  "cells": [
    {
      "cell_type": "markdown",
      "metadata": {
        "id": "view-in-github",
        "colab_type": "text"
      },
      "source": [
        "<a href=\"https://colab.research.google.com/github/andriitishchenko/openpose_demo/blob/master/openpose2020(1_6_0).ipynb\" target=\"_parent\"><img src=\"https://colab.research.google.com/assets/colab-badge.svg\" alt=\"Open In Colab\"/></a>"
      ]
    },
    {
      "cell_type": "markdown",
      "metadata": {
        "id": "wxzdZdlRgkFW",
        "colab_type": "text"
      },
      "source": [
        "**HOW TO**\n",
        "* 1 Find out GPU model\n",
        "* 2 Install libs/deps\n",
        "* 3 get openpose sources\n",
        "* 4 download prebuild or build\n"
      ]
    },
    {
      "cell_type": "markdown",
      "metadata": {
        "id": "98NAIOANx25T",
        "colab_type": "text"
      },
      "source": [
        "This Virtual Machine will be alive next **12hrs**\n",
        "\n",
        "https://research.google.com/colaboratory/faq.html#idle-timeouts\n",
        "\n",
        "Try with GPU,\n",
        "\n",
        "Go to Runtime -> Change runtime type, enable GPU\n",
        "\n",
        "**!Environment will be reseted!**\n",
        "\n",
        "\n",
        "Find out GPU model, it one of \n",
        "\n",
        "* \"Tesla T4\"\n",
        "* \"Tesla P4\"\n",
        "* \"Tesla P100-PCIE\""
      ]
    },
    {
      "cell_type": "code",
      "metadata": {
        "id": "uM1ToeX6Iol3",
        "colab_type": "code",
        "colab": {}
      },
      "source": [
        "#Get system info\n",
        "! lsb_release -a\n",
        "! nvcc --version\n",
        "! nvidia-smi\n"
      ],
      "execution_count": null,
      "outputs": []
    },
    {
      "cell_type": "markdown",
      "metadata": {
        "id": "cWe3e16qDpt4",
        "colab_type": "text"
      },
      "source": [
        "*  Get sources"
      ]
    },
    {
      "cell_type": "code",
      "metadata": {
        "id": "Xo7hnZ11d7az",
        "colab_type": "code",
        "colab": {}
      },
      "source": [
        "!git clone  --depth 1 https://github.com/CMU-Perceptual-Computing-Lab/openpose.git openpose\n",
        "!cd openpose && git submodule update --init --recursive\n",
        "\n",
        "# # download ALL models\n",
        "# !cd openpose/models/ && ./getModels.sh\n",
        "\n",
        "!echo \"DONE ...\""
      ],
      "execution_count": null,
      "outputs": []
    },
    {
      "cell_type": "markdown",
      "metadata": {
        "id": "lMcj3xnddgTM",
        "colab_type": "text"
      },
      "source": [
        "* Install Libs"
      ]
    },
    {
      "cell_type": "code",
      "metadata": {
        "id": "mPqYOS1M1fng",
        "colab_type": "code",
        "colab": {}
      },
      "source": [
        "#Install latest cmake, default is cmake 3.13\n",
        "! sudo apt-get purge cmake\n",
        "! curl -L https://github.com/Kitware/CMake/releases/download/v3.18.0-rc3/cmake-3.18.0-rc3-Linux-x86_64.sh -O \n",
        "! chmod +x cmake-3.18.0-rc3-Linux-x86_64.sh\n",
        "! ./cmake-3.18.0-rc3-Linux-x86_64.sh --skip-license --prefix=/usr/local\n",
        "! cmake --version\n",
        "! rm cmake-3.18.0-rc3-Linux-x86_64.sh\n",
        "\n",
        "! sudo apt-get --assume-yes update\n",
        "! sudo apt-get --assume-yes install libatlas-base-dev libprotobuf-dev libleveldb-dev libsnappy-dev libhdf5-serial-dev protobuf-compiler libopencv-dev\n",
        "! sudo apt-get --assume-yes install build-essential libatlas-base-dev libprotobuf-dev libleveldb-dev libsnappy-dev libhdf5-serial-dev protobuf-compiler\n",
        "! sudo apt-get --assume-yes install libgflags-dev libgoogle-glog-dev liblmdb-dev\n",
        "\n",
        "# OpenCL Generic\n",
        "! sudo apt-get --assume-yes install opencl-headers ocl-icd-opencl-dev\n",
        "! sudo apt-get --assume-yes install libviennacl-dev\n",
        "\n",
        "# OpenCV\n",
        "! sudo apt-get --assume-yes install libopencv-dev\n",
        "\n",
        "# ======================\n",
        "! pip3 install --upgrade pip\n",
        "! pip3 uninstall albumentations -y\n",
        "! pip3 install --upgrade opencv-python albumentations\n"
      ],
      "execution_count": null,
      "outputs": []
    },
    {
      "cell_type": "markdown",
      "metadata": {
        "id": "YPpJtC-ceQ4S",
        "colab_type": "text"
      },
      "source": [
        "Next, 2 options available:\n",
        "* download prebuilded for one of 3 GPUs\n",
        "* build new one"
      ]
    },
    {
      "cell_type": "markdown",
      "metadata": {
        "id": "LoBJvFBX6pra",
        "colab_type": "text"
      },
      "source": [
        "Python 3 + cuda **builded**\n"
      ]
    },
    {
      "cell_type": "code",
      "metadata": {
        "id": "NVwqasNdZGB0",
        "colab_type": "code",
        "colab": {}
      },
      "source": [
        "#check in 1st step \"Tesla T4\",\"Tesla P4\",\"Tesla P100-PCIE\"\n",
        "! rm -rf openpose/build/\n",
        "\n",
        "### Tesla P100-PCIE\n",
        "# ! curl -L -C - https://github.com/andriitishchenko/openpose_demo/raw/master/ubuntu/build_cuda_py3_Tesla_P100-PCIE.zip -o build.zip\n",
        "\n",
        "### Tesla P4\n",
        "# ! curl -L -C - https://github.com/andriitishchenko/openpose_demo/raw/master/ubuntu/build_cuda_py3_Tesla_P4.zip -o build.zip\n",
        "\n",
        "### Tesla T4\n",
        "# ! curl -L -C - https://github.com/andriitishchenko/openpose_demo/raw/master/ubuntu/build_cuda_py3_Tesla_T4.zip -o build.zip\n",
        "\n",
        "! unzip build.zip -d openpose/\n",
        "!echo \"DONE ...\""
      ],
      "execution_count": null,
      "outputs": []
    },
    {
      "cell_type": "markdown",
      "metadata": {
        "id": "XzbKJrJOBXJe",
        "colab_type": "text"
      },
      "source": [
        "Python 2.7 + cuda **builded**"
      ]
    },
    {
      "cell_type": "code",
      "metadata": {
        "id": "HG2sYlcK6VSb",
        "colab_type": "code",
        "colab": {}
      },
      "source": [
        "! rm -rf openpose/build/\n",
        "### Tesla P100-PCIE.\n",
        "! curl -L -C - https://github.com/andriitishchenko/openpose_demo/raw/master/ubuntu/build_cuda_py2.7.zip -O\n",
        "! unzip build_cuda_py2.7.zip -d openpose/\n",
        "!echo \"DONE ...\""
      ],
      "execution_count": null,
      "outputs": []
    },
    {
      "cell_type": "markdown",
      "metadata": {
        "id": "GY58l_kTa0mK",
        "colab_type": "text"
      },
      "source": [
        "BUILD ~20min\n"
      ]
    },
    {
      "cell_type": "markdown",
      "metadata": {
        "id": "rXC0HUqeCMcs",
        "colab_type": "text"
      },
      "source": [
        "BUILD for **Python 3**\n",
        "*for run use \"**python**\"*"
      ]
    },
    {
      "cell_type": "code",
      "metadata": {
        "id": "6DhuKe-ta5sh",
        "colab_type": "code",
        "colab": {}
      },
      "source": [
        "build_dir=\"build\"\n",
        "! rm -rf \"openpose/$build_dir\"\n",
        "! mkdir \"openpose/$build_dir\"\n",
        "! cd \"openpose/$build_dir\" && cmake .. -DBUILD_PYTHON=On\n",
        "! cd \"openpose/$build_dir\" && make -j`nproc`\n"
      ],
      "execution_count": null,
      "outputs": []
    },
    {
      "cell_type": "markdown",
      "metadata": {
        "id": "izRbjESnMFOy",
        "colab_type": "text"
      },
      "source": [
        "BUILD for **Python 2.7**\n",
        "\n",
        "*for run use \"**python2**\"*"
      ]
    },
    {
      "cell_type": "code",
      "metadata": {
        "id": "pB1mdSGCgYFF",
        "colab_type": "code",
        "colab": {}
      },
      "source": [
        "build_dir=\"build\"\n",
        "! rm -rf \"openpose/$build_dir\"\n",
        "! mkdir \"openpose/$build_dir\"\n",
        "! cd \"openpose/$build_dir\" && cmake .. -DBUILD_PYTHON=On -DPYTHON_EXECUTABLE=/usr/bin/python2.7 -DPYTHON_LIBRARY=/usr/lib/x86_64-linux-gnu/libpython2.7m.so\n",
        "! cd \"openpose/$build_dir\" && make -j`nproc`"
      ],
      "execution_count": null,
      "outputs": []
    },
    {
      "cell_type": "markdown",
      "metadata": {
        "id": "GL8177N9gaOm",
        "colab_type": "text"
      },
      "source": [
        "OR Uncomment necessary build section. It uses travis build scripts.\n"
      ]
    },
    {
      "cell_type": "code",
      "metadata": {
        "id": "-WrNvOi2fNRO",
        "colab_type": "code",
        "colab": {}
      },
      "source": [
        "### remove if needed olb build\n",
        "# !rm -rf openpose/build/\n",
        "\n",
        "# CUDA AND PYTHON2.7\n",
        "# !cd openpose && curl  -L https://gist.githubusercontent.com/andriitishchenko/86b93dd8c352f659ee5d402445fd9036/raw/33a6944348982803bd424be709e7e5c20d04892c/ubuntu_build_cuda.sh | bash\n",
        "\n",
        "# OR OPENCL AND PYTHON2.7\n",
        "# !cd openpose && curl  -L https://gist.githubusercontent.com/andriitishchenko/86b93dd8c352f659ee5d402445fd9036/raw/33a6944348982803bd424be709e7e5c20d04892c/ubuntu_build_opencl.sh | bash\n",
        "\n",
        "# OR CPU_ONLY AND PYTHON2.7\n",
        "# !cd openpose && curl  -L https://gist.githubusercontent.com/andriitishchenko/86b93dd8c352f659ee5d402445fd9036/raw/33a6944348982803bd424be709e7e5c20d04892c/ubuntu_build_cpu_only.sh | bash\n"
      ],
      "execution_count": null,
      "outputs": []
    },
    {
      "cell_type": "markdown",
      "metadata": {
        "id": "TJ5VqapjQC2u",
        "colab_type": "text"
      },
      "source": [
        "TESTS\n",
        "\n",
        "*note using python (v3) and python2(v2.7) on this VM*"
      ]
    },
    {
      "cell_type": "code",
      "metadata": {
        "id": "id2Dof3Xo0gy",
        "colab_type": "code",
        "colab": {}
      },
      "source": [
        "### With param \"--net_resolution -1x32\" (travis tests) it fails\n",
        "\n",
        "!cd openpose/models/pose/body_25/ && curl -L -C - http://posefs1.perception.cs.cmu.edu/OpenPose/models/pose/body_25/pose_iter_584000.caffemodel -O\n",
        "\n",
        "!echo \"OpenPose demo...\"\n",
        "!cd openpose && ./build/examples/openpose/openpose.bin --image_dir examples/media/  --write_json output_json/ --write_images output_img/ --display 0\n",
        "!echo \" DONE, check openpose/output/ \"\n",
        "\n",
        "! mkdir openpose/output  #create output dir first for --write-video!!! \n",
        "! cd openpose && ./build/examples/openpose/openpose.bin --video examples/media/video.avi --display 0  --write_video ./output/openpose.avi\n",
        "!echo \" DONE, check openpose/output/ \"\n",
        "\n",
        "!echo \"Tutorial API Python 3: OpenPose demo...\"\n",
        "!cd openpose/build/examples/tutorial_api_python && python openpose_python.py --image_dir ../../../examples/media/  --write_json ../../../output_py3/ --write_images ../../../output_py3/ --display 0\n",
        "!echo \" DONE, check <build>/examples/tutorial_api_python/output/\"\n",
        "\n",
        "!echo \"Tutorial API Python 2: OpenPose demo...\"\n",
        "!cd openpose/build/examples/tutorial_api_python && python2 openpose_python.py --image_dir ../../../examples/media/  --write_json ../../../output_py2/ --write_images ../../../output_py2/ --display 0\n",
        "!echo \" DONE, check <build>/examples/tutorial_api_python/output/\"\n",
        "\n"
      ],
      "execution_count": null,
      "outputs": []
    }
  ]
}